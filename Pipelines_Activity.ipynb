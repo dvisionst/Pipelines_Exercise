{
  "nbformat": 4,
  "nbformat_minor": 0,
  "metadata": {
    "colab": {
      "name": "Pipelines_Activity.ipynb",
      "provenance": [],
      "collapsed_sections": [],
      "authorship_tag": "ABX9TyP2uYvSd91cFGv1ZkrsaMUx",
      "include_colab_link": true
    },
    "kernelspec": {
      "name": "python3",
      "display_name": "Python 3"
    },
    "language_info": {
      "name": "python"
    }
  },
  "cells": [
    {
      "cell_type": "markdown",
      "metadata": {
        "id": "view-in-github",
        "colab_type": "text"
      },
      "source": [
        "<a href=\"https://colab.research.google.com/github/dvisionst/Pipelines_Exercise/blob/main/Pipelines_Activity.ipynb\" target=\"_parent\"><img src=\"https://colab.research.google.com/assets/colab-badge.svg\" alt=\"Open In Colab\"/></a>"
      ]
    },
    {
      "cell_type": "markdown",
      "source": [
        "# Pipelines Activity \n",
        "\n",
        "- Jose Flores\n",
        "- 22 July 2022"
      ],
      "metadata": {
        "id": "m3D17R2wEMUn"
      }
    },
    {
      "cell_type": "code",
      "execution_count": 1,
      "metadata": {
        "id": "GNQnjEiPDzIT"
      },
      "outputs": [],
      "source": [
        "# Imports\n",
        "import pandas as pd\n",
        "import numpy as np\n",
        "from sklearn.model_selection import train_test_split\n",
        "from sklearn.compose import make_column_selector, make_column_transformer\n",
        "from sklearn.preprocessing import StandardScaler, OneHotEncoder\n",
        "from sklearn.pipeline import make_pipeline\n",
        "from sklearn.impute import SimpleImputer\n",
        "from sklearn import set_config\n",
        "set_config(display='diagram')\n",
        "\n"
      ]
    },
    {
      "cell_type": "markdown",
      "source": [
        "\n",
        "For this task, you will use the cereals dataset. This dataset shows popular cereals by brand and manufacturer along with nutrition facts.  The machine learning question is: \n",
        "\n",
        "*How well can the calories be predicted based on the Manufacturer, cereal type, grams of fat, grams of sugars, and weight in ounces per one serving of the cereal?*  \n",
        "\n",
        "At this point, you are just completing the pre-processing steps for this assignment.\n",
        "\n",
        "You will need to:\n",
        "\n",
        "* Define features (X) and target (y).\n",
        "X should only include the Manufacturer, cereal type, grams of fat, grams of sugars, and weight in ounces columns.\n",
        "\n"
      ],
      "metadata": {
        "id": "puZtKlJ7D266"
      }
    },
    {
      "cell_type": "code",
      "source": [
        "data = '/content/Cereal with missing values.xlsx - Sheet 1 - cereal.csv'\n",
        "df = pd.read_csv(data)\n",
        "df.info()\n"
      ],
      "metadata": {
        "colab": {
          "base_uri": "https://localhost:8080/"
        },
        "id": "PuFLTXgcFlev",
        "outputId": "57c028cc-b937-4e01-8604-186c24fadbd1"
      },
      "execution_count": 2,
      "outputs": [
        {
          "output_type": "stream",
          "name": "stdout",
          "text": [
            "<class 'pandas.core.frame.DataFrame'>\n",
            "RangeIndex: 77 entries, 0 to 76\n",
            "Data columns (total 16 columns):\n",
            " #   Column                                           Non-Null Count  Dtype  \n",
            "---  ------                                           --------------  -----  \n",
            " 0   name                                             77 non-null     object \n",
            " 1   Manufacturer                                     77 non-null     object \n",
            " 2   type                                             68 non-null     object \n",
            " 3   calories per serving                             70 non-null     float64\n",
            " 4   grams of protein                                 77 non-null     int64  \n",
            " 5   grams of fat                                     69 non-null     float64\n",
            " 6   milligrams of sodium                             76 non-null     float64\n",
            " 7   grams of dietary fiber                           77 non-null     float64\n",
            " 8   grams of complex carbohydrates                   77 non-null     float64\n",
            " 9   grams of sugars                                  68 non-null     float64\n",
            " 10  milligrams of potassium                          77 non-null     int64  \n",
            " 11  vitamins and minerals (% of FDA recommendation)  76 non-null     float64\n",
            " 12  Display shelf                                    77 non-null     int64  \n",
            " 13  Weight in ounces per one serving                 77 non-null     float64\n",
            " 14  Number of cups in one serving                    77 non-null     float64\n",
            " 15  Rating of cereal                                 77 non-null     float64\n",
            "dtypes: float64(10), int64(3), object(3)\n",
            "memory usage: 9.8+ KB\n"
          ]
        }
      ]
    },
    {
      "cell_type": "code",
      "source": [
        "from pandas.core.dtypes.missing import isna\n",
        "# Splitting up the features and target column. For this exercise the target \n",
        "# will be calories per serving. The features matrix will only include \n",
        "# Manufacturer, cereal type, grams of fat, grams of sugars, and weight in ounces\n",
        "\n",
        "y = df['calories per serving']\n",
        "X = df.drop(columns=['name', \n",
        "             'grams of protein', \n",
        "             'calories per serving', \n",
        "             'milligrams of sodium',\n",
        "             'grams of dietary fiber', \n",
        "             'grams of complex carbohydrates',\n",
        "             'milligrams of potassium',\n",
        "             'vitamins and minerals (% of FDA recommendation)', \n",
        "             'Display shelf',\n",
        "             'Number of cups in one serving',\n",
        "             'Rating of cereal'])\n",
        "\n",
        "X.head()\n"
      ],
      "metadata": {
        "colab": {
          "base_uri": "https://localhost:8080/",
          "height": 206
        },
        "id": "BWK5WcaMGWsU",
        "outputId": "a71974e8-074a-400f-c194-529e4759926a"
      },
      "execution_count": 3,
      "outputs": [
        {
          "output_type": "execute_result",
          "data": {
            "text/plain": [
              "    Manufacturer  type  grams of fat  grams of sugars  \\\n",
              "0  General Mills  Cold           2.0             10.0   \n",
              "1  General Mills  Cold           2.0              NaN   \n",
              "2  General Mills  Cold           2.0              1.0   \n",
              "3  General Mills  Cold           3.0              9.0   \n",
              "4  General Mills  Cold           2.0              7.0   \n",
              "\n",
              "   Weight in ounces per one serving  \n",
              "0                              1.00  \n",
              "1                              1.33  \n",
              "2                              1.00  \n",
              "3                              1.00  \n",
              "4                              1.00  "
            ],
            "text/html": [
              "\n",
              "  <div id=\"df-40e64821-f0bd-4f47-b555-2ff407f42b7a\">\n",
              "    <div class=\"colab-df-container\">\n",
              "      <div>\n",
              "<style scoped>\n",
              "    .dataframe tbody tr th:only-of-type {\n",
              "        vertical-align: middle;\n",
              "    }\n",
              "\n",
              "    .dataframe tbody tr th {\n",
              "        vertical-align: top;\n",
              "    }\n",
              "\n",
              "    .dataframe thead th {\n",
              "        text-align: right;\n",
              "    }\n",
              "</style>\n",
              "<table border=\"1\" class=\"dataframe\">\n",
              "  <thead>\n",
              "    <tr style=\"text-align: right;\">\n",
              "      <th></th>\n",
              "      <th>Manufacturer</th>\n",
              "      <th>type</th>\n",
              "      <th>grams of fat</th>\n",
              "      <th>grams of sugars</th>\n",
              "      <th>Weight in ounces per one serving</th>\n",
              "    </tr>\n",
              "  </thead>\n",
              "  <tbody>\n",
              "    <tr>\n",
              "      <th>0</th>\n",
              "      <td>General Mills</td>\n",
              "      <td>Cold</td>\n",
              "      <td>2.0</td>\n",
              "      <td>10.0</td>\n",
              "      <td>1.00</td>\n",
              "    </tr>\n",
              "    <tr>\n",
              "      <th>1</th>\n",
              "      <td>General Mills</td>\n",
              "      <td>Cold</td>\n",
              "      <td>2.0</td>\n",
              "      <td>NaN</td>\n",
              "      <td>1.33</td>\n",
              "    </tr>\n",
              "    <tr>\n",
              "      <th>2</th>\n",
              "      <td>General Mills</td>\n",
              "      <td>Cold</td>\n",
              "      <td>2.0</td>\n",
              "      <td>1.0</td>\n",
              "      <td>1.00</td>\n",
              "    </tr>\n",
              "    <tr>\n",
              "      <th>3</th>\n",
              "      <td>General Mills</td>\n",
              "      <td>Cold</td>\n",
              "      <td>3.0</td>\n",
              "      <td>9.0</td>\n",
              "      <td>1.00</td>\n",
              "    </tr>\n",
              "    <tr>\n",
              "      <th>4</th>\n",
              "      <td>General Mills</td>\n",
              "      <td>Cold</td>\n",
              "      <td>2.0</td>\n",
              "      <td>7.0</td>\n",
              "      <td>1.00</td>\n",
              "    </tr>\n",
              "  </tbody>\n",
              "</table>\n",
              "</div>\n",
              "      <button class=\"colab-df-convert\" onclick=\"convertToInteractive('df-40e64821-f0bd-4f47-b555-2ff407f42b7a')\"\n",
              "              title=\"Convert this dataframe to an interactive table.\"\n",
              "              style=\"display:none;\">\n",
              "        \n",
              "  <svg xmlns=\"http://www.w3.org/2000/svg\" height=\"24px\"viewBox=\"0 0 24 24\"\n",
              "       width=\"24px\">\n",
              "    <path d=\"M0 0h24v24H0V0z\" fill=\"none\"/>\n",
              "    <path d=\"M18.56 5.44l.94 2.06.94-2.06 2.06-.94-2.06-.94-.94-2.06-.94 2.06-2.06.94zm-11 1L8.5 8.5l.94-2.06 2.06-.94-2.06-.94L8.5 2.5l-.94 2.06-2.06.94zm10 10l.94 2.06.94-2.06 2.06-.94-2.06-.94-.94-2.06-.94 2.06-2.06.94z\"/><path d=\"M17.41 7.96l-1.37-1.37c-.4-.4-.92-.59-1.43-.59-.52 0-1.04.2-1.43.59L10.3 9.45l-7.72 7.72c-.78.78-.78 2.05 0 2.83L4 21.41c.39.39.9.59 1.41.59.51 0 1.02-.2 1.41-.59l7.78-7.78 2.81-2.81c.8-.78.8-2.07 0-2.86zM5.41 20L4 18.59l7.72-7.72 1.47 1.35L5.41 20z\"/>\n",
              "  </svg>\n",
              "      </button>\n",
              "      \n",
              "  <style>\n",
              "    .colab-df-container {\n",
              "      display:flex;\n",
              "      flex-wrap:wrap;\n",
              "      gap: 12px;\n",
              "    }\n",
              "\n",
              "    .colab-df-convert {\n",
              "      background-color: #E8F0FE;\n",
              "      border: none;\n",
              "      border-radius: 50%;\n",
              "      cursor: pointer;\n",
              "      display: none;\n",
              "      fill: #1967D2;\n",
              "      height: 32px;\n",
              "      padding: 0 0 0 0;\n",
              "      width: 32px;\n",
              "    }\n",
              "\n",
              "    .colab-df-convert:hover {\n",
              "      background-color: #E2EBFA;\n",
              "      box-shadow: 0px 1px 2px rgba(60, 64, 67, 0.3), 0px 1px 3px 1px rgba(60, 64, 67, 0.15);\n",
              "      fill: #174EA6;\n",
              "    }\n",
              "\n",
              "    [theme=dark] .colab-df-convert {\n",
              "      background-color: #3B4455;\n",
              "      fill: #D2E3FC;\n",
              "    }\n",
              "\n",
              "    [theme=dark] .colab-df-convert:hover {\n",
              "      background-color: #434B5C;\n",
              "      box-shadow: 0px 1px 3px 1px rgba(0, 0, 0, 0.15);\n",
              "      filter: drop-shadow(0px 1px 2px rgba(0, 0, 0, 0.3));\n",
              "      fill: #FFFFFF;\n",
              "    }\n",
              "  </style>\n",
              "\n",
              "      <script>\n",
              "        const buttonEl =\n",
              "          document.querySelector('#df-40e64821-f0bd-4f47-b555-2ff407f42b7a button.colab-df-convert');\n",
              "        buttonEl.style.display =\n",
              "          google.colab.kernel.accessAllowed ? 'block' : 'none';\n",
              "\n",
              "        async function convertToInteractive(key) {\n",
              "          const element = document.querySelector('#df-40e64821-f0bd-4f47-b555-2ff407f42b7a');\n",
              "          const dataTable =\n",
              "            await google.colab.kernel.invokeFunction('convertToInteractive',\n",
              "                                                     [key], {});\n",
              "          if (!dataTable) return;\n",
              "\n",
              "          const docLinkHtml = 'Like what you see? Visit the ' +\n",
              "            '<a target=\"_blank\" href=https://colab.research.google.com/notebooks/data_table.ipynb>data table notebook</a>'\n",
              "            + ' to learn more about interactive tables.';\n",
              "          element.innerHTML = '';\n",
              "          dataTable['output_type'] = 'display_data';\n",
              "          await google.colab.output.renderOutput(dataTable, element);\n",
              "          const docLink = document.createElement('div');\n",
              "          docLink.innerHTML = docLinkHtml;\n",
              "          element.appendChild(docLink);\n",
              "        }\n",
              "      </script>\n",
              "    </div>\n",
              "  </div>\n",
              "  "
            ]
          },
          "metadata": {},
          "execution_count": 3
        }
      ]
    },
    {
      "cell_type": "code",
      "source": [
        "# checking for duplicate values \n",
        "\n",
        "df.duplicated().sum()"
      ],
      "metadata": {
        "colab": {
          "base_uri": "https://localhost:8080/"
        },
        "id": "jK6sHo_h0hMY",
        "outputId": "e5a5372f-fb35-4bd9-c603-b7f761e73584"
      },
      "execution_count": 4,
      "outputs": [
        {
          "output_type": "execute_result",
          "data": {
            "text/plain": [
              "0"
            ]
          },
          "metadata": {},
          "execution_count": 4
        }
      ]
    },
    {
      "cell_type": "code",
      "source": [
        "# checking for  missing values\n",
        "df.isna().sum()"
      ],
      "metadata": {
        "colab": {
          "base_uri": "https://localhost:8080/"
        },
        "id": "otN5Jes00rs6",
        "outputId": "bdf0edd8-ecc6-4fd5-ebc8-e7a233f031e5"
      },
      "execution_count": 5,
      "outputs": [
        {
          "output_type": "execute_result",
          "data": {
            "text/plain": [
              "name                                               0\n",
              "Manufacturer                                       0\n",
              "type                                               9\n",
              "calories per serving                               7\n",
              "grams of protein                                   0\n",
              "grams of fat                                       8\n",
              "milligrams of sodium                               1\n",
              "grams of dietary fiber                             0\n",
              "grams of complex carbohydrates                     0\n",
              "grams of sugars                                    9\n",
              "milligrams of potassium                            0\n",
              "vitamins and minerals (% of FDA recommendation)    1\n",
              "Display shelf                                      0\n",
              "Weight in ounces per one serving                   0\n",
              "Number of cups in one serving                      0\n",
              "Rating of cereal                                   0\n",
              "dtype: int64"
            ]
          },
          "metadata": {},
          "execution_count": 5
        }
      ]
    },
    {
      "cell_type": "markdown",
      "source": [
        "## Train test split the data to prepare for machine learning."
      ],
      "metadata": {
        "id": "3-_6u61TILyi"
      }
    },
    {
      "cell_type": "code",
      "source": [
        "# doing the train and test validation split\n",
        "\n",
        "X_train, X_test, y_train, y_test = train_test_split(X, y, random_state=42)"
      ],
      "metadata": {
        "id": "5YJ0Ll1QN1dR"
      },
      "execution_count": null,
      "outputs": []
    },
    {
      "cell_type": "markdown",
      "source": [
        "## Identify each feature as numerical, ordinal, or nominal. (Please provide this answer in a text cell in your Colab notebook).\n",
        "\n",
        " *The Manufacturer and type columns are categorical.\n",
        "The remaining three columns are all numerical (grams of fat, grams of sugars & \n",
        "weight in ounces).\n",
        "There are no ordinal features in the Matrix.*"
      ],
      "metadata": {
        "id": "x1hPngqnFily"
      }
    },
    {
      "cell_type": "markdown",
      "source": [
        "## Use pipelines and column transformers to complete the following tasks:\n",
        "* Impute any missing values. Use the ‘mean’ strategy for numeric columns and the ‘most_frequent’ strategy for categorical columns.\n",
        "* One-hot encode the nominal features.\n",
        "* Scale the numeric columns.\n"
      ],
      "metadata": {
        "id": "gkNvM4QKIWv_"
      }
    },
    {
      "cell_type": "code",
      "source": [
        "# Instantiating column selectors\n",
        "cat_selector = make_column_selector(dtype_include='object')\n",
        "num_selector = make_column_selector(dtype_include='number')\n",
        "# Imputers for categorical and numerical data\n",
        "freq_imputer = SimpleImputer(strategy='most_frequent')\n",
        "mean_imputer = SimpleImputer(strategy='mean')\n",
        "# scaler for numerical\n",
        "scaler = StandardScaler()"
      ],
      "metadata": {
        "id": "TsnfZ_q9JWYk"
      },
      "execution_count": null,
      "outputs": []
    },
    {
      "cell_type": "markdown",
      "source": [
        "## All preprocessing steps should be contained within a single preprocessing object.\n"
      ],
      "metadata": {
        "id": "X4H-gLFLIet9"
      }
    },
    {
      "cell_type": "code",
      "source": [
        "# Instantiating numeric pipeline\n",
        "\n",
        "numeric_pipe = make_pipeline(mean_imputer, scaler)\n",
        "numeric_pipe"
      ],
      "metadata": {
        "colab": {
          "base_uri": "https://localhost:8080/",
          "height": 127
        },
        "id": "McEUTe5KVJgh",
        "outputId": "d56c12e5-8cd7-4409-8690-bd96c05f8b04"
      },
      "execution_count": null,
      "outputs": [
        {
          "output_type": "execute_result",
          "data": {
            "text/plain": [
              "Pipeline(steps=[('simpleimputer', SimpleImputer()),\n",
              "                ('standardscaler', StandardScaler())])"
            ],
            "text/html": [
              "<style>#sk-8ef61cd1-fdc7-4a98-901c-44f93545ae4d {color: black;background-color: white;}#sk-8ef61cd1-fdc7-4a98-901c-44f93545ae4d pre{padding: 0;}#sk-8ef61cd1-fdc7-4a98-901c-44f93545ae4d div.sk-toggleable {background-color: white;}#sk-8ef61cd1-fdc7-4a98-901c-44f93545ae4d label.sk-toggleable__label {cursor: pointer;display: block;width: 100%;margin-bottom: 0;padding: 0.3em;box-sizing: border-box;text-align: center;}#sk-8ef61cd1-fdc7-4a98-901c-44f93545ae4d label.sk-toggleable__label-arrow:before {content: \"▸\";float: left;margin-right: 0.25em;color: #696969;}#sk-8ef61cd1-fdc7-4a98-901c-44f93545ae4d label.sk-toggleable__label-arrow:hover:before {color: black;}#sk-8ef61cd1-fdc7-4a98-901c-44f93545ae4d div.sk-estimator:hover label.sk-toggleable__label-arrow:before {color: black;}#sk-8ef61cd1-fdc7-4a98-901c-44f93545ae4d div.sk-toggleable__content {max-height: 0;max-width: 0;overflow: hidden;text-align: left;background-color: #f0f8ff;}#sk-8ef61cd1-fdc7-4a98-901c-44f93545ae4d div.sk-toggleable__content pre {margin: 0.2em;color: black;border-radius: 0.25em;background-color: #f0f8ff;}#sk-8ef61cd1-fdc7-4a98-901c-44f93545ae4d input.sk-toggleable__control:checked~div.sk-toggleable__content {max-height: 200px;max-width: 100%;overflow: auto;}#sk-8ef61cd1-fdc7-4a98-901c-44f93545ae4d input.sk-toggleable__control:checked~label.sk-toggleable__label-arrow:before {content: \"▾\";}#sk-8ef61cd1-fdc7-4a98-901c-44f93545ae4d div.sk-estimator input.sk-toggleable__control:checked~label.sk-toggleable__label {background-color: #d4ebff;}#sk-8ef61cd1-fdc7-4a98-901c-44f93545ae4d div.sk-label input.sk-toggleable__control:checked~label.sk-toggleable__label {background-color: #d4ebff;}#sk-8ef61cd1-fdc7-4a98-901c-44f93545ae4d input.sk-hidden--visually {border: 0;clip: rect(1px 1px 1px 1px);clip: rect(1px, 1px, 1px, 1px);height: 1px;margin: -1px;overflow: hidden;padding: 0;position: absolute;width: 1px;}#sk-8ef61cd1-fdc7-4a98-901c-44f93545ae4d div.sk-estimator {font-family: monospace;background-color: #f0f8ff;border: 1px dotted black;border-radius: 0.25em;box-sizing: border-box;margin-bottom: 0.5em;}#sk-8ef61cd1-fdc7-4a98-901c-44f93545ae4d div.sk-estimator:hover {background-color: #d4ebff;}#sk-8ef61cd1-fdc7-4a98-901c-44f93545ae4d div.sk-parallel-item::after {content: \"\";width: 100%;border-bottom: 1px solid gray;flex-grow: 1;}#sk-8ef61cd1-fdc7-4a98-901c-44f93545ae4d div.sk-label:hover label.sk-toggleable__label {background-color: #d4ebff;}#sk-8ef61cd1-fdc7-4a98-901c-44f93545ae4d div.sk-serial::before {content: \"\";position: absolute;border-left: 1px solid gray;box-sizing: border-box;top: 2em;bottom: 0;left: 50%;}#sk-8ef61cd1-fdc7-4a98-901c-44f93545ae4d div.sk-serial {display: flex;flex-direction: column;align-items: center;background-color: white;padding-right: 0.2em;padding-left: 0.2em;}#sk-8ef61cd1-fdc7-4a98-901c-44f93545ae4d div.sk-item {z-index: 1;}#sk-8ef61cd1-fdc7-4a98-901c-44f93545ae4d div.sk-parallel {display: flex;align-items: stretch;justify-content: center;background-color: white;}#sk-8ef61cd1-fdc7-4a98-901c-44f93545ae4d div.sk-parallel::before {content: \"\";position: absolute;border-left: 1px solid gray;box-sizing: border-box;top: 2em;bottom: 0;left: 50%;}#sk-8ef61cd1-fdc7-4a98-901c-44f93545ae4d div.sk-parallel-item {display: flex;flex-direction: column;position: relative;background-color: white;}#sk-8ef61cd1-fdc7-4a98-901c-44f93545ae4d div.sk-parallel-item:first-child::after {align-self: flex-end;width: 50%;}#sk-8ef61cd1-fdc7-4a98-901c-44f93545ae4d div.sk-parallel-item:last-child::after {align-self: flex-start;width: 50%;}#sk-8ef61cd1-fdc7-4a98-901c-44f93545ae4d div.sk-parallel-item:only-child::after {width: 0;}#sk-8ef61cd1-fdc7-4a98-901c-44f93545ae4d div.sk-dashed-wrapped {border: 1px dashed gray;margin: 0 0.4em 0.5em 0.4em;box-sizing: border-box;padding-bottom: 0.4em;background-color: white;position: relative;}#sk-8ef61cd1-fdc7-4a98-901c-44f93545ae4d div.sk-label label {font-family: monospace;font-weight: bold;background-color: white;display: inline-block;line-height: 1.2em;}#sk-8ef61cd1-fdc7-4a98-901c-44f93545ae4d div.sk-label-container {position: relative;z-index: 2;text-align: center;}#sk-8ef61cd1-fdc7-4a98-901c-44f93545ae4d div.sk-container {/* jupyter's `normalize.less` sets `[hidden] { display: none; }` but bootstrap.min.css set `[hidden] { display: none !important; }` so we also need the `!important` here to be able to override the default hidden behavior on the sphinx rendered scikit-learn.org. See: https://github.com/scikit-learn/scikit-learn/issues/21755 */display: inline-block !important;position: relative;}#sk-8ef61cd1-fdc7-4a98-901c-44f93545ae4d div.sk-text-repr-fallback {display: none;}</style><div id=\"sk-8ef61cd1-fdc7-4a98-901c-44f93545ae4d\" class=\"sk-top-container\"><div class=\"sk-text-repr-fallback\"><pre>Pipeline(steps=[(&#x27;simpleimputer&#x27;, SimpleImputer()),\n",
              "                (&#x27;standardscaler&#x27;, StandardScaler())])</pre><b>Please rerun this cell to show the HTML repr or trust the notebook.</b></div><div class=\"sk-container\" hidden><div class=\"sk-item sk-dashed-wrapped\"><div class=\"sk-label-container\"><div class=\"sk-label sk-toggleable\"><input class=\"sk-toggleable__control sk-hidden--visually\" id=\"069d2485-2a33-4b96-b5e7-e21c563542ac\" type=\"checkbox\" ><label for=\"069d2485-2a33-4b96-b5e7-e21c563542ac\" class=\"sk-toggleable__label sk-toggleable__label-arrow\">Pipeline</label><div class=\"sk-toggleable__content\"><pre>Pipeline(steps=[(&#x27;simpleimputer&#x27;, SimpleImputer()),\n",
              "                (&#x27;standardscaler&#x27;, StandardScaler())])</pre></div></div></div><div class=\"sk-serial\"><div class=\"sk-item\"><div class=\"sk-estimator sk-toggleable\"><input class=\"sk-toggleable__control sk-hidden--visually\" id=\"0036d3a4-0f0c-4318-9966-73b7c2fba768\" type=\"checkbox\" ><label for=\"0036d3a4-0f0c-4318-9966-73b7c2fba768\" class=\"sk-toggleable__label sk-toggleable__label-arrow\">SimpleImputer</label><div class=\"sk-toggleable__content\"><pre>SimpleImputer()</pre></div></div></div><div class=\"sk-item\"><div class=\"sk-estimator sk-toggleable\"><input class=\"sk-toggleable__control sk-hidden--visually\" id=\"9900b09b-8a9a-4f27-ac48-952a5a189f87\" type=\"checkbox\" ><label for=\"9900b09b-8a9a-4f27-ac48-952a5a189f87\" class=\"sk-toggleable__label sk-toggleable__label-arrow\">StandardScaler</label><div class=\"sk-toggleable__content\"><pre>StandardScaler()</pre></div></div></div></div></div></div></div>"
            ]
          },
          "metadata": {},
          "execution_count": 40
        }
      ]
    },
    {
      "cell_type": "code",
      "source": [
        "# Instantiating categorical pipeline\n",
        "catgorical_pipe = make_pipeline(freq_imputer)\n",
        "catgorical_pipe"
      ],
      "metadata": {
        "colab": {
          "base_uri": "https://localhost:8080/",
          "height": 92
        },
        "id": "3MbDP-XzVgzH",
        "outputId": "647606a6-f636-42b5-ea31-a1fc5dd95456"
      },
      "execution_count": null,
      "outputs": [
        {
          "output_type": "execute_result",
          "data": {
            "text/plain": [
              "Pipeline(steps=[('simpleimputer', SimpleImputer(strategy='most_frequent'))])"
            ],
            "text/html": [
              "<style>#sk-1baaa765-64bd-4747-a5b1-b6689a5d18b9 {color: black;background-color: white;}#sk-1baaa765-64bd-4747-a5b1-b6689a5d18b9 pre{padding: 0;}#sk-1baaa765-64bd-4747-a5b1-b6689a5d18b9 div.sk-toggleable {background-color: white;}#sk-1baaa765-64bd-4747-a5b1-b6689a5d18b9 label.sk-toggleable__label {cursor: pointer;display: block;width: 100%;margin-bottom: 0;padding: 0.3em;box-sizing: border-box;text-align: center;}#sk-1baaa765-64bd-4747-a5b1-b6689a5d18b9 label.sk-toggleable__label-arrow:before {content: \"▸\";float: left;margin-right: 0.25em;color: #696969;}#sk-1baaa765-64bd-4747-a5b1-b6689a5d18b9 label.sk-toggleable__label-arrow:hover:before {color: black;}#sk-1baaa765-64bd-4747-a5b1-b6689a5d18b9 div.sk-estimator:hover label.sk-toggleable__label-arrow:before {color: black;}#sk-1baaa765-64bd-4747-a5b1-b6689a5d18b9 div.sk-toggleable__content {max-height: 0;max-width: 0;overflow: hidden;text-align: left;background-color: #f0f8ff;}#sk-1baaa765-64bd-4747-a5b1-b6689a5d18b9 div.sk-toggleable__content pre {margin: 0.2em;color: black;border-radius: 0.25em;background-color: #f0f8ff;}#sk-1baaa765-64bd-4747-a5b1-b6689a5d18b9 input.sk-toggleable__control:checked~div.sk-toggleable__content {max-height: 200px;max-width: 100%;overflow: auto;}#sk-1baaa765-64bd-4747-a5b1-b6689a5d18b9 input.sk-toggleable__control:checked~label.sk-toggleable__label-arrow:before {content: \"▾\";}#sk-1baaa765-64bd-4747-a5b1-b6689a5d18b9 div.sk-estimator input.sk-toggleable__control:checked~label.sk-toggleable__label {background-color: #d4ebff;}#sk-1baaa765-64bd-4747-a5b1-b6689a5d18b9 div.sk-label input.sk-toggleable__control:checked~label.sk-toggleable__label {background-color: #d4ebff;}#sk-1baaa765-64bd-4747-a5b1-b6689a5d18b9 input.sk-hidden--visually {border: 0;clip: rect(1px 1px 1px 1px);clip: rect(1px, 1px, 1px, 1px);height: 1px;margin: -1px;overflow: hidden;padding: 0;position: absolute;width: 1px;}#sk-1baaa765-64bd-4747-a5b1-b6689a5d18b9 div.sk-estimator {font-family: monospace;background-color: #f0f8ff;border: 1px dotted black;border-radius: 0.25em;box-sizing: border-box;margin-bottom: 0.5em;}#sk-1baaa765-64bd-4747-a5b1-b6689a5d18b9 div.sk-estimator:hover {background-color: #d4ebff;}#sk-1baaa765-64bd-4747-a5b1-b6689a5d18b9 div.sk-parallel-item::after {content: \"\";width: 100%;border-bottom: 1px solid gray;flex-grow: 1;}#sk-1baaa765-64bd-4747-a5b1-b6689a5d18b9 div.sk-label:hover label.sk-toggleable__label {background-color: #d4ebff;}#sk-1baaa765-64bd-4747-a5b1-b6689a5d18b9 div.sk-serial::before {content: \"\";position: absolute;border-left: 1px solid gray;box-sizing: border-box;top: 2em;bottom: 0;left: 50%;}#sk-1baaa765-64bd-4747-a5b1-b6689a5d18b9 div.sk-serial {display: flex;flex-direction: column;align-items: center;background-color: white;padding-right: 0.2em;padding-left: 0.2em;}#sk-1baaa765-64bd-4747-a5b1-b6689a5d18b9 div.sk-item {z-index: 1;}#sk-1baaa765-64bd-4747-a5b1-b6689a5d18b9 div.sk-parallel {display: flex;align-items: stretch;justify-content: center;background-color: white;}#sk-1baaa765-64bd-4747-a5b1-b6689a5d18b9 div.sk-parallel::before {content: \"\";position: absolute;border-left: 1px solid gray;box-sizing: border-box;top: 2em;bottom: 0;left: 50%;}#sk-1baaa765-64bd-4747-a5b1-b6689a5d18b9 div.sk-parallel-item {display: flex;flex-direction: column;position: relative;background-color: white;}#sk-1baaa765-64bd-4747-a5b1-b6689a5d18b9 div.sk-parallel-item:first-child::after {align-self: flex-end;width: 50%;}#sk-1baaa765-64bd-4747-a5b1-b6689a5d18b9 div.sk-parallel-item:last-child::after {align-self: flex-start;width: 50%;}#sk-1baaa765-64bd-4747-a5b1-b6689a5d18b9 div.sk-parallel-item:only-child::after {width: 0;}#sk-1baaa765-64bd-4747-a5b1-b6689a5d18b9 div.sk-dashed-wrapped {border: 1px dashed gray;margin: 0 0.4em 0.5em 0.4em;box-sizing: border-box;padding-bottom: 0.4em;background-color: white;position: relative;}#sk-1baaa765-64bd-4747-a5b1-b6689a5d18b9 div.sk-label label {font-family: monospace;font-weight: bold;background-color: white;display: inline-block;line-height: 1.2em;}#sk-1baaa765-64bd-4747-a5b1-b6689a5d18b9 div.sk-label-container {position: relative;z-index: 2;text-align: center;}#sk-1baaa765-64bd-4747-a5b1-b6689a5d18b9 div.sk-container {/* jupyter's `normalize.less` sets `[hidden] { display: none; }` but bootstrap.min.css set `[hidden] { display: none !important; }` so we also need the `!important` here to be able to override the default hidden behavior on the sphinx rendered scikit-learn.org. See: https://github.com/scikit-learn/scikit-learn/issues/21755 */display: inline-block !important;position: relative;}#sk-1baaa765-64bd-4747-a5b1-b6689a5d18b9 div.sk-text-repr-fallback {display: none;}</style><div id=\"sk-1baaa765-64bd-4747-a5b1-b6689a5d18b9\" class=\"sk-top-container\"><div class=\"sk-text-repr-fallback\"><pre>Pipeline(steps=[(&#x27;simpleimputer&#x27;, SimpleImputer(strategy=&#x27;most_frequent&#x27;))])</pre><b>Please rerun this cell to show the HTML repr or trust the notebook.</b></div><div class=\"sk-container\" hidden><div class=\"sk-item sk-dashed-wrapped\"><div class=\"sk-label-container\"><div class=\"sk-label sk-toggleable\"><input class=\"sk-toggleable__control sk-hidden--visually\" id=\"5f416c87-24be-4cd6-b482-a87f16ebe353\" type=\"checkbox\" ><label for=\"5f416c87-24be-4cd6-b482-a87f16ebe353\" class=\"sk-toggleable__label sk-toggleable__label-arrow\">Pipeline</label><div class=\"sk-toggleable__content\"><pre>Pipeline(steps=[(&#x27;simpleimputer&#x27;, SimpleImputer(strategy=&#x27;most_frequent&#x27;))])</pre></div></div></div><div class=\"sk-serial\"><div class=\"sk-item\"><div class=\"sk-estimator sk-toggleable\"><input class=\"sk-toggleable__control sk-hidden--visually\" id=\"2d6fed24-d767-4582-a8ab-0a09e65fecfe\" type=\"checkbox\" ><label for=\"2d6fed24-d767-4582-a8ab-0a09e65fecfe\" class=\"sk-toggleable__label sk-toggleable__label-arrow\">SimpleImputer</label><div class=\"sk-toggleable__content\"><pre>SimpleImputer(strategy=&#x27;most_frequent&#x27;)</pre></div></div></div></div></div></div></div>"
            ]
          },
          "metadata": {},
          "execution_count": 41
        }
      ]
    },
    {
      "cell_type": "code",
      "source": [
        "# Instantiating column transfers\n",
        "\n",
        "# Tuples for the column transfer\n",
        "num_tuple = (numeric_pipe, num_selector)\n",
        "cat_tuple = (catgorical_pipe, cat_selector)\n",
        "\n",
        "# column transformer\n",
        "\n",
        "preprocessor = make_column_transformer(num_tuple, cat_tuple)\n",
        "preprocessor"
      ],
      "metadata": {
        "colab": {
          "base_uri": "https://localhost:8080/",
          "height": 153
        },
        "id": "zV6gZ-8JVvXB",
        "outputId": "5dc52b2c-23e6-4b7a-abd1-3c9da95cfd6d"
      },
      "execution_count": null,
      "outputs": [
        {
          "output_type": "execute_result",
          "data": {
            "text/plain": [
              "ColumnTransformer(transformers=[('pipeline-1',\n",
              "                                 Pipeline(steps=[('simpleimputer',\n",
              "                                                  SimpleImputer()),\n",
              "                                                 ('standardscaler',\n",
              "                                                  StandardScaler())]),\n",
              "                                 <sklearn.compose._column_transformer.make_column_selector object at 0x7f9087ae1310>),\n",
              "                                ('pipeline-2',\n",
              "                                 Pipeline(steps=[('simpleimputer',\n",
              "                                                  SimpleImputer(strategy='most_frequent'))]),\n",
              "                                 <sklearn.compose._column_transformer.make_column_selector object at 0x7f9087ae1f50>)])"
            ],
            "text/html": [
              "<style>#sk-cd146ab6-e576-47c3-b146-8e337e0d5342 {color: black;background-color: white;}#sk-cd146ab6-e576-47c3-b146-8e337e0d5342 pre{padding: 0;}#sk-cd146ab6-e576-47c3-b146-8e337e0d5342 div.sk-toggleable {background-color: white;}#sk-cd146ab6-e576-47c3-b146-8e337e0d5342 label.sk-toggleable__label {cursor: pointer;display: block;width: 100%;margin-bottom: 0;padding: 0.3em;box-sizing: border-box;text-align: center;}#sk-cd146ab6-e576-47c3-b146-8e337e0d5342 label.sk-toggleable__label-arrow:before {content: \"▸\";float: left;margin-right: 0.25em;color: #696969;}#sk-cd146ab6-e576-47c3-b146-8e337e0d5342 label.sk-toggleable__label-arrow:hover:before {color: black;}#sk-cd146ab6-e576-47c3-b146-8e337e0d5342 div.sk-estimator:hover label.sk-toggleable__label-arrow:before {color: black;}#sk-cd146ab6-e576-47c3-b146-8e337e0d5342 div.sk-toggleable__content {max-height: 0;max-width: 0;overflow: hidden;text-align: left;background-color: #f0f8ff;}#sk-cd146ab6-e576-47c3-b146-8e337e0d5342 div.sk-toggleable__content pre {margin: 0.2em;color: black;border-radius: 0.25em;background-color: #f0f8ff;}#sk-cd146ab6-e576-47c3-b146-8e337e0d5342 input.sk-toggleable__control:checked~div.sk-toggleable__content {max-height: 200px;max-width: 100%;overflow: auto;}#sk-cd146ab6-e576-47c3-b146-8e337e0d5342 input.sk-toggleable__control:checked~label.sk-toggleable__label-arrow:before {content: \"▾\";}#sk-cd146ab6-e576-47c3-b146-8e337e0d5342 div.sk-estimator input.sk-toggleable__control:checked~label.sk-toggleable__label {background-color: #d4ebff;}#sk-cd146ab6-e576-47c3-b146-8e337e0d5342 div.sk-label input.sk-toggleable__control:checked~label.sk-toggleable__label {background-color: #d4ebff;}#sk-cd146ab6-e576-47c3-b146-8e337e0d5342 input.sk-hidden--visually {border: 0;clip: rect(1px 1px 1px 1px);clip: rect(1px, 1px, 1px, 1px);height: 1px;margin: -1px;overflow: hidden;padding: 0;position: absolute;width: 1px;}#sk-cd146ab6-e576-47c3-b146-8e337e0d5342 div.sk-estimator {font-family: monospace;background-color: #f0f8ff;border: 1px dotted black;border-radius: 0.25em;box-sizing: border-box;margin-bottom: 0.5em;}#sk-cd146ab6-e576-47c3-b146-8e337e0d5342 div.sk-estimator:hover {background-color: #d4ebff;}#sk-cd146ab6-e576-47c3-b146-8e337e0d5342 div.sk-parallel-item::after {content: \"\";width: 100%;border-bottom: 1px solid gray;flex-grow: 1;}#sk-cd146ab6-e576-47c3-b146-8e337e0d5342 div.sk-label:hover label.sk-toggleable__label {background-color: #d4ebff;}#sk-cd146ab6-e576-47c3-b146-8e337e0d5342 div.sk-serial::before {content: \"\";position: absolute;border-left: 1px solid gray;box-sizing: border-box;top: 2em;bottom: 0;left: 50%;}#sk-cd146ab6-e576-47c3-b146-8e337e0d5342 div.sk-serial {display: flex;flex-direction: column;align-items: center;background-color: white;padding-right: 0.2em;padding-left: 0.2em;}#sk-cd146ab6-e576-47c3-b146-8e337e0d5342 div.sk-item {z-index: 1;}#sk-cd146ab6-e576-47c3-b146-8e337e0d5342 div.sk-parallel {display: flex;align-items: stretch;justify-content: center;background-color: white;}#sk-cd146ab6-e576-47c3-b146-8e337e0d5342 div.sk-parallel::before {content: \"\";position: absolute;border-left: 1px solid gray;box-sizing: border-box;top: 2em;bottom: 0;left: 50%;}#sk-cd146ab6-e576-47c3-b146-8e337e0d5342 div.sk-parallel-item {display: flex;flex-direction: column;position: relative;background-color: white;}#sk-cd146ab6-e576-47c3-b146-8e337e0d5342 div.sk-parallel-item:first-child::after {align-self: flex-end;width: 50%;}#sk-cd146ab6-e576-47c3-b146-8e337e0d5342 div.sk-parallel-item:last-child::after {align-self: flex-start;width: 50%;}#sk-cd146ab6-e576-47c3-b146-8e337e0d5342 div.sk-parallel-item:only-child::after {width: 0;}#sk-cd146ab6-e576-47c3-b146-8e337e0d5342 div.sk-dashed-wrapped {border: 1px dashed gray;margin: 0 0.4em 0.5em 0.4em;box-sizing: border-box;padding-bottom: 0.4em;background-color: white;position: relative;}#sk-cd146ab6-e576-47c3-b146-8e337e0d5342 div.sk-label label {font-family: monospace;font-weight: bold;background-color: white;display: inline-block;line-height: 1.2em;}#sk-cd146ab6-e576-47c3-b146-8e337e0d5342 div.sk-label-container {position: relative;z-index: 2;text-align: center;}#sk-cd146ab6-e576-47c3-b146-8e337e0d5342 div.sk-container {/* jupyter's `normalize.less` sets `[hidden] { display: none; }` but bootstrap.min.css set `[hidden] { display: none !important; }` so we also need the `!important` here to be able to override the default hidden behavior on the sphinx rendered scikit-learn.org. See: https://github.com/scikit-learn/scikit-learn/issues/21755 */display: inline-block !important;position: relative;}#sk-cd146ab6-e576-47c3-b146-8e337e0d5342 div.sk-text-repr-fallback {display: none;}</style><div id=\"sk-cd146ab6-e576-47c3-b146-8e337e0d5342\" class=\"sk-top-container\"><div class=\"sk-text-repr-fallback\"><pre>ColumnTransformer(transformers=[(&#x27;pipeline-1&#x27;,\n",
              "                                 Pipeline(steps=[(&#x27;simpleimputer&#x27;,\n",
              "                                                  SimpleImputer()),\n",
              "                                                 (&#x27;standardscaler&#x27;,\n",
              "                                                  StandardScaler())]),\n",
              "                                 &lt;sklearn.compose._column_transformer.make_column_selector object at 0x7f9087ae1310&gt;),\n",
              "                                (&#x27;pipeline-2&#x27;,\n",
              "                                 Pipeline(steps=[(&#x27;simpleimputer&#x27;,\n",
              "                                                  SimpleImputer(strategy=&#x27;most_frequent&#x27;))]),\n",
              "                                 &lt;sklearn.compose._column_transformer.make_column_selector object at 0x7f9087ae1f50&gt;)])</pre><b>Please rerun this cell to show the HTML repr or trust the notebook.</b></div><div class=\"sk-container\" hidden><div class=\"sk-item sk-dashed-wrapped\"><div class=\"sk-label-container\"><div class=\"sk-label sk-toggleable\"><input class=\"sk-toggleable__control sk-hidden--visually\" id=\"ba73b321-3dec-4e20-8ce5-59cc2455cdcc\" type=\"checkbox\" ><label for=\"ba73b321-3dec-4e20-8ce5-59cc2455cdcc\" class=\"sk-toggleable__label sk-toggleable__label-arrow\">ColumnTransformer</label><div class=\"sk-toggleable__content\"><pre>ColumnTransformer(transformers=[(&#x27;pipeline-1&#x27;,\n",
              "                                 Pipeline(steps=[(&#x27;simpleimputer&#x27;,\n",
              "                                                  SimpleImputer()),\n",
              "                                                 (&#x27;standardscaler&#x27;,\n",
              "                                                  StandardScaler())]),\n",
              "                                 &lt;sklearn.compose._column_transformer.make_column_selector object at 0x7f9087ae1310&gt;),\n",
              "                                (&#x27;pipeline-2&#x27;,\n",
              "                                 Pipeline(steps=[(&#x27;simpleimputer&#x27;,\n",
              "                                                  SimpleImputer(strategy=&#x27;most_frequent&#x27;))]),\n",
              "                                 &lt;sklearn.compose._column_transformer.make_column_selector object at 0x7f9087ae1f50&gt;)])</pre></div></div></div><div class=\"sk-parallel\"><div class=\"sk-parallel-item\"><div class=\"sk-item\"><div class=\"sk-label-container\"><div class=\"sk-label sk-toggleable\"><input class=\"sk-toggleable__control sk-hidden--visually\" id=\"db1a7d5e-ab40-4d91-8089-e88937cd1696\" type=\"checkbox\" ><label for=\"db1a7d5e-ab40-4d91-8089-e88937cd1696\" class=\"sk-toggleable__label sk-toggleable__label-arrow\">pipeline-1</label><div class=\"sk-toggleable__content\"><pre>&lt;sklearn.compose._column_transformer.make_column_selector object at 0x7f9087ae1310&gt;</pre></div></div></div><div class=\"sk-serial\"><div class=\"sk-item\"><div class=\"sk-serial\"><div class=\"sk-item\"><div class=\"sk-estimator sk-toggleable\"><input class=\"sk-toggleable__control sk-hidden--visually\" id=\"113088d2-613c-4ae4-852c-6e6ec2b9c3f3\" type=\"checkbox\" ><label for=\"113088d2-613c-4ae4-852c-6e6ec2b9c3f3\" class=\"sk-toggleable__label sk-toggleable__label-arrow\">SimpleImputer</label><div class=\"sk-toggleable__content\"><pre>SimpleImputer()</pre></div></div></div><div class=\"sk-item\"><div class=\"sk-estimator sk-toggleable\"><input class=\"sk-toggleable__control sk-hidden--visually\" id=\"878718d2-b833-4426-a9e4-a27ad5c885c7\" type=\"checkbox\" ><label for=\"878718d2-b833-4426-a9e4-a27ad5c885c7\" class=\"sk-toggleable__label sk-toggleable__label-arrow\">StandardScaler</label><div class=\"sk-toggleable__content\"><pre>StandardScaler()</pre></div></div></div></div></div></div></div></div><div class=\"sk-parallel-item\"><div class=\"sk-item\"><div class=\"sk-label-container\"><div class=\"sk-label sk-toggleable\"><input class=\"sk-toggleable__control sk-hidden--visually\" id=\"066b38c6-54bc-4962-ae7a-f369a7c2cbc9\" type=\"checkbox\" ><label for=\"066b38c6-54bc-4962-ae7a-f369a7c2cbc9\" class=\"sk-toggleable__label sk-toggleable__label-arrow\">pipeline-2</label><div class=\"sk-toggleable__content\"><pre>&lt;sklearn.compose._column_transformer.make_column_selector object at 0x7f9087ae1f50&gt;</pre></div></div></div><div class=\"sk-serial\"><div class=\"sk-item\"><div class=\"sk-serial\"><div class=\"sk-item\"><div class=\"sk-estimator sk-toggleable\"><input class=\"sk-toggleable__control sk-hidden--visually\" id=\"21c250f2-74c4-4b2b-b884-54ac00b930fe\" type=\"checkbox\" ><label for=\"21c250f2-74c4-4b2b-b884-54ac00b930fe\" class=\"sk-toggleable__label sk-toggleable__label-arrow\">SimpleImputer</label><div class=\"sk-toggleable__content\"><pre>SimpleImputer(strategy=&#x27;most_frequent&#x27;)</pre></div></div></div></div></div></div></div></div></div></div></div></div>"
            ]
          },
          "metadata": {},
          "execution_count": 42
        }
      ]
    },
    {
      "cell_type": "markdown",
      "source": [
        "## Use your preprocessing object to transform your data appropriately, avoiding data leakage, to make it ready for modeling. Show the resulting Numpy array."
      ],
      "metadata": {
        "id": "vLMqwBdkIhDJ"
      }
    },
    {
      "cell_type": "code",
      "source": [
        "# transforming the data starting with fitting training set\n",
        "\n",
        "preprocessor.fit(X_train)\n",
        "\n",
        "#transforming the training and testing sets\n",
        "\n",
        "X_train_processed = preprocessor.transform(X_train)\n",
        "X_test_processed = preprocessor.transform(X_test)"
      ],
      "metadata": {
        "id": "g_jfpHraWT4l"
      },
      "execution_count": null,
      "outputs": []
    },
    {
      "cell_type": "code",
      "source": [
        "# Data inspection\n",
        "\n",
        "X_train_processed\n",
        "\n"
      ],
      "metadata": {
        "colab": {
          "base_uri": "https://localhost:8080/"
        },
        "id": "gCVPF-4pW0uI",
        "outputId": "deb146ce-4683-487d-ee7b-1e6454592b4b"
      },
      "execution_count": null,
      "outputs": [
        {
          "output_type": "execute_result",
          "data": {
            "text/plain": [
              "array([[-0.9746794344808966, 0.9944816473415153, -0.13276489651437107,\n",
              "        'Kelloggs', 'Cold'],\n",
              "       [0.0, 1.2219191541326242, 2.038807019516324, 'Kelloggs', 'Cold'],\n",
              "       [-0.9746794344808966, -0.8250184069873556, -0.13276489651437107,\n",
              "        'Kelloggs', 'Cold'],\n",
              "       [0.0, 1.676794167714842, 3.1574955823200144, 'General Mills',\n",
              "        'Cold'],\n",
              "       [0.0, -0.142705886614029, -0.13276489651437107, 'Quaker Oats',\n",
              "        'Cold'],\n",
              "       [0.0, -0.37014339340513785, -0.13276489651437107, 'Post', 'Cold'],\n",
              "       [-0.9746794344808966, 0.08473162017707987, -0.13276489651437107,\n",
              "        'Kelloggs', 'Cold'],\n",
              "       [0.0, 0.7670441405504065, -0.13276489651437107, 'General Mills',\n",
              "        'Cold'],\n",
              "       [0.0, 2.0200508536226356e-16, -0.13276489651437107, 'Quaker Oats',\n",
              "        'Cold'],\n",
              "       [-0.9746794344808966, -0.8250184069873556, -0.13276489651437107,\n",
              "        'Kelloggs', 'Cold'],\n",
              "       [0.0, -0.8250184069873556, -0.13276489651437107, 'Ralston Purina',\n",
              "        'Cold'],\n",
              "       [-0.9746794344808966, -0.37014339340513785, -0.13276489651437107,\n",
              "        'Nabisco', 'Cold'],\n",
              "       [0.9746794344808966, -1.734768434151791, -0.13276489651437107,\n",
              "        'Quaker Oats', 'Hot'],\n",
              "       [0.0, 2.0200508536226356e-16, -0.13276489651437107,\n",
              "        'General Mills', 'Cold'],\n",
              "       [-0.9746794344808966, -1.507330927360682, -3.4230253753487565,\n",
              "        'Quaker Oats', 'Cold'],\n",
              "       [-0.9746794344808966, -1.0524559137784644, -0.13276489651437107,\n",
              "        'Kelloggs', 'Cold'],\n",
              "       [0.0, -0.8250184069873556, -0.13276489651437107, 'Kelloggs',\n",
              "        'Cold'],\n",
              "       [0.9746794344808966, 2.0200508536226356e-16, 1.5123653429028217,\n",
              "        'General Mills', 'Cold'],\n",
              "       [-0.9746794344808966, -0.8250184069873556, -0.13276489651437107,\n",
              "        'Post', 'Cold'],\n",
              "       [1.9493588689617931, 0.5396066337592976, -0.13276489651437107,\n",
              "        'General Mills', 'Cold'],\n",
              "       [0.0, -0.8250184069873556, -0.13276489651437107, 'General Mills',\n",
              "        'Cold'],\n",
              "       [-0.9746794344808966, -1.0524559137784644, -0.13276489651437107,\n",
              "        'Kelloggs', 'Cold'],\n",
              "       [0.0, 0.5396066337592976, -0.13276489651437107, 'General Mills',\n",
              "        'Cold'],\n",
              "       [0.9746794344808966, 0.9944816473415153, -0.13276489651437107,\n",
              "        'Quaker Oats', 'Cold'],\n",
              "       [0.0, 1.449356660923733, -0.13276489651437107, 'General Mills',\n",
              "        'Cold'],\n",
              "       [0.0, 0.5396066337592976, -0.13276489651437107, 'Kelloggs',\n",
              "        'Cold'],\n",
              "       [1.9493588689617931, 0.9944816473415153, -0.13276489651437107,\n",
              "        'Ralston Purina', 'Cold'],\n",
              "       [1.9493588689617931, -0.5975809001962467, -0.13276489651437107,\n",
              "        'Post', 'Cold'],\n",
              "       [-0.9746794344808966, -1.507330927360682, -1.2514534593180624,\n",
              "        'Nabisco', 'Cold'],\n",
              "       [-0.9746794344808966, -1.507330927360682, -0.13276489651437107,\n",
              "        'Nabisco', 'Hot'],\n",
              "       [0.0, -0.8250184069873556, -0.13276489651437107, 'General Mills',\n",
              "        'Cold'],\n",
              "       [0.0, 2.0200508536226356e-16, -0.13276489651437107, 'Kelloggs',\n",
              "        'Cold'],\n",
              "       [-0.9746794344808966, -0.142705886614029, -0.13276489651437107,\n",
              "        'Kelloggs', 'Cold'],\n",
              "       [-0.9746794344808966, 1.2219191541326242, -0.13276489651437107,\n",
              "        'Kelloggs', 'Cold'],\n",
              "       [-0.9746794344808966, -1.507330927360682, -0.13276489651437107,\n",
              "        'Nabisco', 'Cold'],\n",
              "       [-0.9746794344808966, 1.676794167714842, -0.13276489651437107,\n",
              "        'Kelloggs', 'Cold'],\n",
              "       [0.0, 1.9042316745059507, -0.13276489651437107, 'Kelloggs',\n",
              "        'Cold'],\n",
              "       [-0.9746794344808966, -0.37014339340513785, -0.13276489651437107,\n",
              "        'Ralston Purina', 'Cold'],\n",
              "       [-0.9746794344808966, 0.9944816473415153, -0.13276489651437107,\n",
              "        'Post', 'Cold'],\n",
              "       [0.0, 1.2219191541326242, -0.13276489651437107, 'General Mills',\n",
              "        'Cold'],\n",
              "       [-0.9746794344808966, 1.2219191541326242, 2.038807019516324,\n",
              "        'Kelloggs', 'Cold'],\n",
              "       [0.0, -1.0524559137784644, -0.13276489651437107, 'Ralston Purina',\n",
              "        'Cold'],\n",
              "       [3.8987177379235862, 0.3121691269681887, -0.13276489651437107,\n",
              "        'Quaker Oats', 'Cold'],\n",
              "       [-0.9746794344808966, -1.507330927360682, -3.4230253753487565,\n",
              "        'Quaker Oats', 'Cold'],\n",
              "       [0.0, -0.142705886614029, -0.13276489651437107, 'Ralston Purina',\n",
              "        'Cold'],\n",
              "       [0.9746794344808966, 0.08473162017707987, 2.038807019516324,\n",
              "        'Kelloggs', 'Cold'],\n",
              "       [0.0, 1.449356660923733, -0.13276489651437107, 'Kelloggs', 'Cold'],\n",
              "       [0.9746794344808966, 2.0200508536226356e-16, 2.038807019516324,\n",
              "        'General Mills', 'Cold'],\n",
              "       [0.0, 1.2219191541326242, -0.13276489651437107, 'Post', 'Cold'],\n",
              "       [0.0, 0.3121691269681887, -0.13276489651437107, 'General Mills',\n",
              "        'Cold'],\n",
              "       [0.9746794344808966, -1.2798934205695733, -0.13276489651437107,\n",
              "        'General Mills', 'Cold'],\n",
              "       [-0.9746794344808966, -1.507330927360682, -0.13276489651437107,\n",
              "        'Kelloggs', 'Cold'],\n",
              "       [0.0, -0.8250184069873556, -0.13276489651437107, 'General Mills',\n",
              "        'Cold'],\n",
              "       [0.9746794344808966, 1.2219191541326242, -0.13276489651437107,\n",
              "        'Quaker Oats', 'Cold'],\n",
              "       [1.9493588689617931, 0.9944816473415153, -0.13276489651437107,\n",
              "        'Ralston Purina', 'Cold'],\n",
              "       [0.9746794344808966, 0.3121691269681887, -0.13276489651437107,\n",
              "        'General Mills', 'Cold'],\n",
              "       [0.0, 2.0200508536226356e-16, 1.5123653429028217, 'Post', 'Cold']],\n",
              "      dtype=object)"
            ]
          },
          "metadata": {},
          "execution_count": 48
        }
      ]
    }
  ]
}